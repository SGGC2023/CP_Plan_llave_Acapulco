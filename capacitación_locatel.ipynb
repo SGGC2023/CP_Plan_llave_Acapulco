{
  "nbformat": 4,
  "nbformat_minor": 0,
  "metadata": {
    "colab": {
      "provenance": [],
      "include_colab_link": true
    },
    "kernelspec": {
      "name": "python3",
      "display_name": "Python 3"
    },
    "language_info": {
      "name": "python"
    }
  },
  "cells": [
    {
      "cell_type": "markdown",
      "metadata": {
        "id": "view-in-github",
        "colab_type": "text"
      },
      "source": [
        "<a href=\"https://colab.research.google.com/github/SGGC2023/CP_Plan_llave_Acapulco/blob/main/capacitaci%C3%B3n_locatel.ipynb\" target=\"_parent\"><img src=\"https://colab.research.google.com/assets/colab-badge.svg\" alt=\"Open In Colab\"/></a>"
      ]
    },
    {
      "cell_type": "markdown",
      "source": [
        "# Locatel\n",
        "\n",
        "\n",
        "\n",
        "En este bloc se describe la creación de una I.A para la clasificación y despacho de solicitudes de atención ciudadana mediante el entrenamiento de una red neuronal con arquitectura *deep learning*.\n",
        "\n",
        "\n",
        "Creado por [Alejandro Molina](https://www.centrogeo.org.mx/areas-profile/amolina), 20 de enero 2022."
      ],
      "metadata": {
        "id": "UqC6qtnISVtq"
      }
    },
    {
      "cell_type": "markdown",
      "source": [
        "# STAGE 1 Preparación de datos para dos modelos: subpalabras y neuronal\n"
      ],
      "metadata": {
        "id": "Tf7L_iP81GvZ"
      }
    },
    {
      "cell_type": "code",
      "source": [
        "# montaje de unidades en la nube\n",
        "from google.colab import drive\n",
        "# deep learning\n",
        "try:\n",
        "    %tensorflow_version 2.x\n",
        "except Exception:\n",
        "    pass\n",
        "import tensorflow as tf\n",
        "# codificación-decodificación datos textuales\n",
        "from tensorflow.keras import layers\n",
        "import tensorflow_datasets as tfds\n",
        "# muestreo estratificado\n",
        "from sklearn.model_selection import StratifiedKFold\n",
        "# evaluación modelos de aprendizaje\n",
        "from sklearn.metrics import classification_report\n",
        "from sklearn.metrics import confusion_matrix\n",
        "# resumen automático\n",
        "from gensim.summarization.summarizer import summarize\n",
        "# manipulación de BD, tablas, vectores y otros\n",
        "import numpy as np\n",
        "import pandas as pd\n",
        "import math\n",
        "import csv\n",
        "# limpieza de datos textuales\n",
        "import re"
      ],
      "metadata": {
        "id": "ZNg0t3EbSXW4"
      },
      "execution_count": null,
      "outputs": []
    },
    {
      "cell_type": "markdown",
      "source": [
        "## Montaje de unidad y lectura de datos"
      ],
      "metadata": {
        "id": "HtM1W7mHXDYr"
      }
    },
    {
      "cell_type": "code",
      "source": [
        "# montar drive\n",
        "drive.mount('/content/drive/')\n",
        "%cd'/content/drive/Shareddrives/CNNlocatel'"
      ],
      "metadata": {
        "colab": {
          "base_uri": "https://localhost:8080/"
        },
        "id": "TlB8yf3ir_Ha",
        "outputId": "0787fb4c-3c63-4e8d-9e1b-a2a4017ae204"
      },
      "execution_count": null,
      "outputs": [
        {
          "output_type": "stream",
          "name": "stdout",
          "text": [
            "Mounted at /content/drive/\n",
            "/content/drive/Shareddrives/CNNlocatel\n"
          ]
        }
      ]
    },
    {
      "cell_type": "code",
      "source": [
        "# leer datos crudos\n",
        "cols = [\"folio\",\"fecha\",\"tema\",\"motivo\",\"texto\",\"calle\",\"num\",\"interior\",\"mza\",\"lote\",\"colonia\",\"alcaldia\",\"cp\",\"lon\",\"lat\",\"id_turno\",\"dependencia\"]\n",
        "df = pd.read_csv(\"data/SUAC_0619-0921.csv\",\n",
        "    header=0,\n",
        "    index_col=0,\n",
        "    names=cols,\n",
        "    engine=\"python\",\n",
        "    encoding=\"UTF-8\",\n",
        "    sep=','\n",
        ")\n",
        "\n",
        "df.head()"
      ],
      "metadata": {
        "colab": {
          "base_uri": "https://localhost:8080/",
          "height": 735
        },
        "id": "wSbXVeJTXHuB",
        "outputId": "f39a82ec-9d68-4995-cc0c-8775208ddba3"
      },
      "execution_count": null,
      "outputs": [
        {
          "output_type": "execute_result",
          "data": {
            "text/html": [
              "\n",
              "  <div id=\"df-a4550e5e-ce2f-4bdf-b0d5-9ff41046c74f\">\n",
              "    <div class=\"colab-df-container\">\n",
              "      <div>\n",
              "<style scoped>\n",
              "    .dataframe tbody tr th:only-of-type {\n",
              "        vertical-align: middle;\n",
              "    }\n",
              "\n",
              "    .dataframe tbody tr th {\n",
              "        vertical-align: top;\n",
              "    }\n",
              "\n",
              "    .dataframe thead th {\n",
              "        text-align: right;\n",
              "    }\n",
              "</style>\n",
              "<table border=\"1\" class=\"dataframe\">\n",
              "  <thead>\n",
              "    <tr style=\"text-align: right;\">\n",
              "      <th></th>\n",
              "      <th>fecha</th>\n",
              "      <th>tema</th>\n",
              "      <th>motivo</th>\n",
              "      <th>texto</th>\n",
              "      <th>calle</th>\n",
              "      <th>num</th>\n",
              "      <th>interior</th>\n",
              "      <th>mza</th>\n",
              "      <th>lote</th>\n",
              "      <th>colonia</th>\n",
              "      <th>alcaldia</th>\n",
              "      <th>cp</th>\n",
              "      <th>lon</th>\n",
              "      <th>lat</th>\n",
              "      <th>id_turno</th>\n",
              "      <th>dependencia</th>\n",
              "    </tr>\n",
              "    <tr>\n",
              "      <th>folio</th>\n",
              "      <th></th>\n",
              "      <th></th>\n",
              "      <th></th>\n",
              "      <th></th>\n",
              "      <th></th>\n",
              "      <th></th>\n",
              "      <th></th>\n",
              "      <th></th>\n",
              "      <th></th>\n",
              "      <th></th>\n",
              "      <th></th>\n",
              "      <th></th>\n",
              "      <th></th>\n",
              "      <th></th>\n",
              "      <th></th>\n",
              "      <th></th>\n",
              "    </tr>\n",
              "  </thead>\n",
              "  <tbody>\n",
              "    <tr>\n",
              "      <th>1</th>\n",
              "      <td>1/6/2019</td>\n",
              "      <td>NaN</td>\n",
              "      <td>NaN</td>\n",
              "      <td>¿Donde puedo denunciar abuso sexual y violenci...</td>\n",
              "      <td>NaN</td>\n",
              "      <td>NaN</td>\n",
              "      <td>NaN</td>\n",
              "      <td>NaN</td>\n",
              "      <td>NaN</td>\n",
              "      <td>NaN</td>\n",
              "      <td>NaN</td>\n",
              "      <td>NaN</td>\n",
              "      <td>NaN</td>\n",
              "      <td>NaN</td>\n",
              "      <td>39.0</td>\n",
              "      <td>Procuraduría General de Justicia de la Ciudad ...</td>\n",
              "    </tr>\n",
              "    <tr>\n",
              "      <th>1</th>\n",
              "      <td>1/6/2019</td>\n",
              "      <td>NaN</td>\n",
              "      <td>NaN</td>\n",
              "      <td>¿Donde puedo denunciar abuso sexual y violenci...</td>\n",
              "      <td>NaN</td>\n",
              "      <td>NaN</td>\n",
              "      <td>NaN</td>\n",
              "      <td>NaN</td>\n",
              "      <td>NaN</td>\n",
              "      <td>NaN</td>\n",
              "      <td>NaN</td>\n",
              "      <td>NaN</td>\n",
              "      <td>NaN</td>\n",
              "      <td>NaN</td>\n",
              "      <td>38.0</td>\n",
              "      <td>Sistema para el Desarrollo Integral de la Fami...</td>\n",
              "    </tr>\n",
              "    <tr>\n",
              "      <th>2</th>\n",
              "      <td>1/6/2019</td>\n",
              "      <td>NaN</td>\n",
              "      <td>REINSCRIPCION AL CENDI</td>\n",
              "      <td>Buenas noches Sra jefa de gobierno el motivo d...</td>\n",
              "      <td>No aplica</td>\n",
              "      <td>NaN</td>\n",
              "      <td>NaN</td>\n",
              "      <td>NaN</td>\n",
              "      <td>NaN</td>\n",
              "      <td>NaN</td>\n",
              "      <td>NaN</td>\n",
              "      <td>NaN</td>\n",
              "      <td>NaN</td>\n",
              "      <td>NaN</td>\n",
              "      <td>46.0</td>\n",
              "      <td>Jefatura de Gobierno de la Ciudad de México</td>\n",
              "    </tr>\n",
              "    <tr>\n",
              "      <th>2</th>\n",
              "      <td>1/6/2019</td>\n",
              "      <td>NaN</td>\n",
              "      <td>REINSCRIPCION AL CENDI</td>\n",
              "      <td>Buenas noches Sra jefa de gobierno el motivo d...</td>\n",
              "      <td>No aplica</td>\n",
              "      <td>NaN</td>\n",
              "      <td>NaN</td>\n",
              "      <td>NaN</td>\n",
              "      <td>NaN</td>\n",
              "      <td>NaN</td>\n",
              "      <td>NaN</td>\n",
              "      <td>NaN</td>\n",
              "      <td>NaN</td>\n",
              "      <td>NaN</td>\n",
              "      <td>45.0</td>\n",
              "      <td>Secretaría del Medio Ambiente</td>\n",
              "    </tr>\n",
              "    <tr>\n",
              "      <th>3</th>\n",
              "      <td>2/6/2019</td>\n",
              "      <td>NaN</td>\n",
              "      <td>NaN</td>\n",
              "      <td>Estuve dentro de la CAMPAÑA que llegó a la vic...</td>\n",
              "      <td>NaN</td>\n",
              "      <td>NaN</td>\n",
              "      <td>NaN</td>\n",
              "      <td>NaN</td>\n",
              "      <td>NaN</td>\n",
              "      <td>NaN</td>\n",
              "      <td>NaN</td>\n",
              "      <td>NaN</td>\n",
              "      <td>NaN</td>\n",
              "      <td>NaN</td>\n",
              "      <td>296.0</td>\n",
              "      <td>Metrobús</td>\n",
              "    </tr>\n",
              "  </tbody>\n",
              "</table>\n",
              "</div>\n",
              "      <button class=\"colab-df-convert\" onclick=\"convertToInteractive('df-a4550e5e-ce2f-4bdf-b0d5-9ff41046c74f')\"\n",
              "              title=\"Convert this dataframe to an interactive table.\"\n",
              "              style=\"display:none;\">\n",
              "        \n",
              "  <svg xmlns=\"http://www.w3.org/2000/svg\" height=\"24px\"viewBox=\"0 0 24 24\"\n",
              "       width=\"24px\">\n",
              "    <path d=\"M0 0h24v24H0V0z\" fill=\"none\"/>\n",
              "    <path d=\"M18.56 5.44l.94 2.06.94-2.06 2.06-.94-2.06-.94-.94-2.06-.94 2.06-2.06.94zm-11 1L8.5 8.5l.94-2.06 2.06-.94-2.06-.94L8.5 2.5l-.94 2.06-2.06.94zm10 10l.94 2.06.94-2.06 2.06-.94-2.06-.94-.94-2.06-.94 2.06-2.06.94z\"/><path d=\"M17.41 7.96l-1.37-1.37c-.4-.4-.92-.59-1.43-.59-.52 0-1.04.2-1.43.59L10.3 9.45l-7.72 7.72c-.78.78-.78 2.05 0 2.83L4 21.41c.39.39.9.59 1.41.59.51 0 1.02-.2 1.41-.59l7.78-7.78 2.81-2.81c.8-.78.8-2.07 0-2.86zM5.41 20L4 18.59l7.72-7.72 1.47 1.35L5.41 20z\"/>\n",
              "  </svg>\n",
              "      </button>\n",
              "      \n",
              "  <style>\n",
              "    .colab-df-container {\n",
              "      display:flex;\n",
              "      flex-wrap:wrap;\n",
              "      gap: 12px;\n",
              "    }\n",
              "\n",
              "    .colab-df-convert {\n",
              "      background-color: #E8F0FE;\n",
              "      border: none;\n",
              "      border-radius: 50%;\n",
              "      cursor: pointer;\n",
              "      display: none;\n",
              "      fill: #1967D2;\n",
              "      height: 32px;\n",
              "      padding: 0 0 0 0;\n",
              "      width: 32px;\n",
              "    }\n",
              "\n",
              "    .colab-df-convert:hover {\n",
              "      background-color: #E2EBFA;\n",
              "      box-shadow: 0px 1px 2px rgba(60, 64, 67, 0.3), 0px 1px 3px 1px rgba(60, 64, 67, 0.15);\n",
              "      fill: #174EA6;\n",
              "    }\n",
              "\n",
              "    [theme=dark] .colab-df-convert {\n",
              "      background-color: #3B4455;\n",
              "      fill: #D2E3FC;\n",
              "    }\n",
              "\n",
              "    [theme=dark] .colab-df-convert:hover {\n",
              "      background-color: #434B5C;\n",
              "      box-shadow: 0px 1px 3px 1px rgba(0, 0, 0, 0.15);\n",
              "      filter: drop-shadow(0px 1px 2px rgba(0, 0, 0, 0.3));\n",
              "      fill: #FFFFFF;\n",
              "    }\n",
              "  </style>\n",
              "\n",
              "      <script>\n",
              "        const buttonEl =\n",
              "          document.querySelector('#df-a4550e5e-ce2f-4bdf-b0d5-9ff41046c74f button.colab-df-convert');\n",
              "        buttonEl.style.display =\n",
              "          google.colab.kernel.accessAllowed ? 'block' : 'none';\n",
              "\n",
              "        async function convertToInteractive(key) {\n",
              "          const element = document.querySelector('#df-a4550e5e-ce2f-4bdf-b0d5-9ff41046c74f');\n",
              "          const dataTable =\n",
              "            await google.colab.kernel.invokeFunction('convertToInteractive',\n",
              "                                                     [key], {});\n",
              "          if (!dataTable) return;\n",
              "\n",
              "          const docLinkHtml = 'Like what you see? Visit the ' +\n",
              "            '<a target=\"_blank\" href=https://colab.research.google.com/notebooks/data_table.ipynb>data table notebook</a>'\n",
              "            + ' to learn more about interactive tables.';\n",
              "          element.innerHTML = '';\n",
              "          dataTable['output_type'] = 'display_data';\n",
              "          await google.colab.output.renderOutput(dataTable, element);\n",
              "          const docLink = document.createElement('div');\n",
              "          docLink.innerHTML = docLinkHtml;\n",
              "          element.appendChild(docLink);\n",
              "        }\n",
              "      </script>\n",
              "    </div>\n",
              "  </div>\n",
              "  "
            ],
            "text/plain": [
              "          fecha  ...                                        dependencia\n",
              "folio            ...                                                   \n",
              "1      1/6/2019  ...  Procuraduría General de Justicia de la Ciudad ...\n",
              "1      1/6/2019  ...  Sistema para el Desarrollo Integral de la Fami...\n",
              "2      1/6/2019  ...        Jefatura de Gobierno de la Ciudad de México\n",
              "2      1/6/2019  ...                      Secretaría del Medio Ambiente\n",
              "3      2/6/2019  ...                                           Metrobús\n",
              "\n",
              "[5 rows x 16 columns]"
            ]
          },
          "metadata": {},
          "execution_count": 7
        }
      ]
    },
    {
      "cell_type": "markdown",
      "source": [
        "Desde el punto de vista técnico,el problema que abordamos es la clasificación automática del motivo a partir de un campo no estructurados (texto libre). Por ejemplo, el \"Solicito se pode la raíz de un árbol que está levantando la banqueta de la calle\" debe clasificarse al tipo PODA. En este sentido caben algunas observaciones:\n",
        "\n",
        "\n",
        "*   Los únicos atributos que nos serán de utilidad para el modelo son: folio, motivo, texto.\n",
        "*   Algunos folios se duplican porque id_turno y dependencia son diferentes pero para nuestro problema, los textos duplicados no tienen relevancia (incluso perjudican).\n",
        "*   No todos los registros tienen texto y esos casos no nos sirven para nada.\n",
        "*   No todos los registros tienen motivo (muchos NAs) y esos casos no podemos usarlos para el entrenamiento (para otras cosas sí se usan).\n",
        "\n",
        "\n"
      ],
      "metadata": {
        "id": "bTEzRKW1g4t5"
      }
    },
    {
      "cell_type": "code",
      "source": [
        "# eliminar columnas innecesarias\n",
        "df.drop(columns=[\"fecha\",\"tema\",\"calle\",\"num\",\"interior\",\"mza\",\"lote\",\"colonia\",\"alcaldia\",\"cp\",\"lon\",\"lat\",\"id_turno\",\"dependencia\"], inplace=True)\n",
        "# eliminar folio duplicado (índice)\n",
        "df = df[~df.index.duplicated(keep='first')]\n",
        "# eliminar NAs en texto\n",
        "df.dropna(subset=['texto'], inplace=True)\n",
        "# Guardar dfs para el modelo de subpalabras y sin motivo\n",
        "df_para_subpals =df\n",
        "df_sin_motivo = df[df['motivo'].isnull()]\n",
        "\n",
        "df.head()\n"
      ],
      "metadata": {
        "colab": {
          "base_uri": "https://localhost:8080/",
          "height": 238
        },
        "id": "Wb1nNoV5XYQF",
        "outputId": "89f158bd-e239-4dae-830c-aeebccff4833"
      },
      "execution_count": null,
      "outputs": [
        {
          "output_type": "execute_result",
          "data": {
            "text/html": [
              "\n",
              "  <div id=\"df-900b7f73-1e11-42f9-a1db-d47a1ae8236a\">\n",
              "    <div class=\"colab-df-container\">\n",
              "      <div>\n",
              "<style scoped>\n",
              "    .dataframe tbody tr th:only-of-type {\n",
              "        vertical-align: middle;\n",
              "    }\n",
              "\n",
              "    .dataframe tbody tr th {\n",
              "        vertical-align: top;\n",
              "    }\n",
              "\n",
              "    .dataframe thead th {\n",
              "        text-align: right;\n",
              "    }\n",
              "</style>\n",
              "<table border=\"1\" class=\"dataframe\">\n",
              "  <thead>\n",
              "    <tr style=\"text-align: right;\">\n",
              "      <th></th>\n",
              "      <th>motivo</th>\n",
              "      <th>texto</th>\n",
              "    </tr>\n",
              "    <tr>\n",
              "      <th>folio</th>\n",
              "      <th></th>\n",
              "      <th></th>\n",
              "    </tr>\n",
              "  </thead>\n",
              "  <tbody>\n",
              "    <tr>\n",
              "      <th>1</th>\n",
              "      <td>NaN</td>\n",
              "      <td>¿Donde puedo denunciar abuso sexual y violenci...</td>\n",
              "    </tr>\n",
              "    <tr>\n",
              "      <th>2</th>\n",
              "      <td>REINSCRIPCION AL CENDI</td>\n",
              "      <td>Buenas noches Sra jefa de gobierno el motivo d...</td>\n",
              "    </tr>\n",
              "    <tr>\n",
              "      <th>3</th>\n",
              "      <td>NaN</td>\n",
              "      <td>Estuve dentro de la CAMPAÑA que llegó a la vic...</td>\n",
              "    </tr>\n",
              "    <tr>\n",
              "      <th>4</th>\n",
              "      <td>NaN</td>\n",
              "      <td>Violencia a menores de edad ya envié la inform...</td>\n",
              "    </tr>\n",
              "    <tr>\n",
              "      <th>5</th>\n",
              "      <td>NaN</td>\n",
              "      <td>EStos niños están siendo abusados por su propi...</td>\n",
              "    </tr>\n",
              "  </tbody>\n",
              "</table>\n",
              "</div>\n",
              "      <button class=\"colab-df-convert\" onclick=\"convertToInteractive('df-900b7f73-1e11-42f9-a1db-d47a1ae8236a')\"\n",
              "              title=\"Convert this dataframe to an interactive table.\"\n",
              "              style=\"display:none;\">\n",
              "        \n",
              "  <svg xmlns=\"http://www.w3.org/2000/svg\" height=\"24px\"viewBox=\"0 0 24 24\"\n",
              "       width=\"24px\">\n",
              "    <path d=\"M0 0h24v24H0V0z\" fill=\"none\"/>\n",
              "    <path d=\"M18.56 5.44l.94 2.06.94-2.06 2.06-.94-2.06-.94-.94-2.06-.94 2.06-2.06.94zm-11 1L8.5 8.5l.94-2.06 2.06-.94-2.06-.94L8.5 2.5l-.94 2.06-2.06.94zm10 10l.94 2.06.94-2.06 2.06-.94-2.06-.94-.94-2.06-.94 2.06-2.06.94z\"/><path d=\"M17.41 7.96l-1.37-1.37c-.4-.4-.92-.59-1.43-.59-.52 0-1.04.2-1.43.59L10.3 9.45l-7.72 7.72c-.78.78-.78 2.05 0 2.83L4 21.41c.39.39.9.59 1.41.59.51 0 1.02-.2 1.41-.59l7.78-7.78 2.81-2.81c.8-.78.8-2.07 0-2.86zM5.41 20L4 18.59l7.72-7.72 1.47 1.35L5.41 20z\"/>\n",
              "  </svg>\n",
              "      </button>\n",
              "      \n",
              "  <style>\n",
              "    .colab-df-container {\n",
              "      display:flex;\n",
              "      flex-wrap:wrap;\n",
              "      gap: 12px;\n",
              "    }\n",
              "\n",
              "    .colab-df-convert {\n",
              "      background-color: #E8F0FE;\n",
              "      border: none;\n",
              "      border-radius: 50%;\n",
              "      cursor: pointer;\n",
              "      display: none;\n",
              "      fill: #1967D2;\n",
              "      height: 32px;\n",
              "      padding: 0 0 0 0;\n",
              "      width: 32px;\n",
              "    }\n",
              "\n",
              "    .colab-df-convert:hover {\n",
              "      background-color: #E2EBFA;\n",
              "      box-shadow: 0px 1px 2px rgba(60, 64, 67, 0.3), 0px 1px 3px 1px rgba(60, 64, 67, 0.15);\n",
              "      fill: #174EA6;\n",
              "    }\n",
              "\n",
              "    [theme=dark] .colab-df-convert {\n",
              "      background-color: #3B4455;\n",
              "      fill: #D2E3FC;\n",
              "    }\n",
              "\n",
              "    [theme=dark] .colab-df-convert:hover {\n",
              "      background-color: #434B5C;\n",
              "      box-shadow: 0px 1px 3px 1px rgba(0, 0, 0, 0.15);\n",
              "      filter: drop-shadow(0px 1px 2px rgba(0, 0, 0, 0.3));\n",
              "      fill: #FFFFFF;\n",
              "    }\n",
              "  </style>\n",
              "\n",
              "      <script>\n",
              "        const buttonEl =\n",
              "          document.querySelector('#df-900b7f73-1e11-42f9-a1db-d47a1ae8236a button.colab-df-convert');\n",
              "        buttonEl.style.display =\n",
              "          google.colab.kernel.accessAllowed ? 'block' : 'none';\n",
              "\n",
              "        async function convertToInteractive(key) {\n",
              "          const element = document.querySelector('#df-900b7f73-1e11-42f9-a1db-d47a1ae8236a');\n",
              "          const dataTable =\n",
              "            await google.colab.kernel.invokeFunction('convertToInteractive',\n",
              "                                                     [key], {});\n",
              "          if (!dataTable) return;\n",
              "\n",
              "          const docLinkHtml = 'Like what you see? Visit the ' +\n",
              "            '<a target=\"_blank\" href=https://colab.research.google.com/notebooks/data_table.ipynb>data table notebook</a>'\n",
              "            + ' to learn more about interactive tables.';\n",
              "          element.innerHTML = '';\n",
              "          dataTable['output_type'] = 'display_data';\n",
              "          await google.colab.output.renderOutput(dataTable, element);\n",
              "          const docLink = document.createElement('div');\n",
              "          docLink.innerHTML = docLinkHtml;\n",
              "          element.appendChild(docLink);\n",
              "        }\n",
              "      </script>\n",
              "    </div>\n",
              "  </div>\n",
              "  "
            ],
            "text/plain": [
              "                       motivo                                              texto\n",
              "folio                                                                           \n",
              "1                         NaN  ¿Donde puedo denunciar abuso sexual y violenci...\n",
              "2      REINSCRIPCION AL CENDI  Buenas noches Sra jefa de gobierno el motivo d...\n",
              "3                         NaN  Estuve dentro de la CAMPAÑA que llegó a la vic...\n",
              "4                         NaN  Violencia a menores de edad ya envié la inform...\n",
              "5                         NaN  EStos niños están siendo abusados por su propi..."
            ]
          },
          "metadata": {},
          "execution_count": 8
        }
      ]
    },
    {
      "cell_type": "markdown",
      "source": [
        "## Análisis de la distribución de las clases (motivo)\n"
      ],
      "metadata": {
        "id": "yuoaaLFodrnP"
      }
    },
    {
      "cell_type": "code",
      "source": [
        "# registros no tienen motivo\n",
        "print('SIN MOTIVO:',df_sin_motivo.size)\n",
        "\n",
        "# Al usar los datos y agruparlos por motivo se obtienen la siguiente distribución\n",
        "# de solicitudes en las 48 clases distintas.\n",
        "# Es importante mencionar que esto se hizo sin considerar inconsistencias o irregularidades en el campo de texto\n",
        "# (las cuales se tratarán adelante).\n",
        "\n",
        "#El desbalance es muy notorio pero el volumen de datos es importante,\n",
        "# se estima que un modelo de redes neuronales podría resultar bien siempre\n",
        "# y cuando se tenga en cuenta un muestreo estratificado y se codifique de manera adecuada con\n",
        "# word embeddings de dominio específico.\n",
        "\n",
        "# En este momento no sabemos hasta que punto nos afecta el desbalance hasta no tener un primer\n",
        "# modelo evaluado con métricas de ML.\n",
        "\n",
        "print(df.groupby(by='motivo').size())"
      ],
      "metadata": {
        "colab": {
          "base_uri": "https://localhost:8080/"
        },
        "id": "FDL4NK65d0_X",
        "outputId": "c0802259-4f3e-4fcc-f031-7df0e170ffbd"
      },
      "execution_count": null,
      "outputs": [
        {
          "output_type": "stream",
          "name": "stdout",
          "text": [
            "SIN MOTIVO: 502936\n",
            "motivo\n",
            "ALARMAS VECINALES                              530\n",
            "ALERTA SISMICA                               27317\n",
            "ALUMBRADO                                   121697\n",
            "APOYO SERVICIOS FUNERARIOS                     218\n",
            "ASESORÍA DE TERCEROS ACREDITADOS               407\n",
            "ASESORÍA JURÍDICA                             1103\n",
            "ASISTENCIA SOCIAL                             1418\n",
            "ASISTENCIA VETERINARIA                         647\n",
            "BACHEO                                       35578\n",
            "BALIZAMIENTO                                  4215\n",
            "BARBECHO / CHAPONEO                           6418\n",
            "BECAS                                         2633\n",
            "COVID                                        37654\n",
            "CRÉDITO DE VIVIENDA                           3511\n",
            "DESAZOLVE                                    42455\n",
            "FALTA DE AGUA                                79714\n",
            "FUGA DE AGUA                                 57417\n",
            "LIMPIEZA VIA PUBLICA                          2940\n",
            "LLAVE CDMX                                    2119\n",
            "MANTENIMIENTO DE COLADERA / ALCANTARILLA     20092\n",
            "MANTENIMIENTO DRENAJE                        13164\n",
            "MANTENIMIENTO PARQUE / AREA VERDE            11484\n",
            "MANTENIMIENTO SEMÁFOROS                       4914\n",
            "MANTENIMIENTO VÍA PÚBLICA                    38644\n",
            "PAVIMENTACION                                11285\n",
            "PODA / RETIRO ARBOL                          93166\n",
            "PROGRAMA APOYO A CUIDADORES                    113\n",
            "PROTECCION CIVIL                              5140\n",
            "QUEJA DE TRANSPORTE PUBLICO                  15471\n",
            "QUEJA FUNCIONARIO                             1555\n",
            "RECOLECCIÓN BASURA                           21773\n",
            "REGISTRO FERIAS INDIGENAS                     2186\n",
            "REINSCRIPCION AL CENDI                        3275\n",
            "REPARACION DE EMPEDRADO                        294\n",
            "RETIRO AMBULANTE                               664\n",
            "RETIRO CASCAJO, ESCOMBRO, AZOLVE, RAMAS      45996\n",
            "SOLICITU DE AUDIENCIA                         1460\n",
            "SOLICITUD DE CONCERTACIÓN VECINAL              234\n",
            "SOLICITUD DE VIGILANCIA                       7902\n",
            "SOLICITUD DE VOLANTEO                         1909\n",
            "SOLICITUD ESTUDIO SOCIOECONOMICO               904\n",
            "SOLICITUD EVALUACIÓN DE RIESGO                1081\n",
            "SOLICITUD/SEGURO DE DESEMPLEO                19764\n",
            "TRAMITES / INFO VEHICULAR                    34668\n",
            "USO DE SUELO                                  6345\n",
            "VEHÍCULO ABANDONADO / CHATARRIZACIÓN         10747\n",
            "VENTA DE ALCOHOL / DROGA                      8915\n",
            "VERIFICACIÓN ADMINISTRATIVA                  10489\n",
            "dtype: int64\n"
          ]
        }
      ]
    },
    {
      "cell_type": "markdown",
      "source": [
        "## Análisis de la distribución de longitudes (núm de chars)"
      ],
      "metadata": {
        "id": "pqKJoqMebhRg"
      }
    },
    {
      "cell_type": "code",
      "source": [
        "df['texto'].apply(lambda x: len(x)).plot.hist(bins=100)\n",
        "df['texto'].apply(lambda x: len(x)).describe()"
      ],
      "metadata": {
        "colab": {
          "base_uri": "https://localhost:8080/",
          "height": 421
        },
        "id": "kD-MzaesbApS",
        "outputId": "2bde6680-9a21-4d23-c783-5f4c26943589"
      },
      "execution_count": null,
      "outputs": [
        {
          "output_type": "execute_result",
          "data": {
            "text/plain": [
              "count    1.073093e+06\n",
              "mean     2.329731e+02\n",
              "std      2.287514e+02\n",
              "min      1.000000e+00\n",
              "25%      8.300000e+01\n",
              "50%      1.590000e+02\n",
              "75%      2.980000e+02\n",
              "max      5.733000e+03\n",
              "Name: texto, dtype: float64"
            ]
          },
          "metadata": {},
          "execution_count": 10
        },
        {
          "output_type": "display_data",
          "data": {
            "image/png": "[encoded data removed]",
            "text/plain": [
              "<Figure size 432x288 with 1 Axes>"
            ]
          },
          "metadata": {
            "needs_background": "light"
          }
        }
      ]
    },
    {
      "cell_type": "code",
      "source": [
        "# Problema con la extensión de los textos hay algunos demasiado cortos y otros demasiado largos.\n",
        "\n",
        "#Regularización de la extensión textual mediante algoritmo de resúmen automático TextRank.\n",
        "\n",
        "# \"Summarizing is based on ranks of text sentences using a variation of the TextRank algorithm\"\n",
        "# Federico Barrios, Federico L´opez, Luis Argerich, Rosita Wachenchauzer (2016).\n",
        "# Variations of the Similarity Function of TextRank for Automated Summarization,\n",
        "# https://arxiv.org/abs/1602.03606\n",
        "\n",
        "# TextRank\n",
        "# https://radimrehurek.com/gensim_3.8.3/summarization/summariser.html\n",
        "\n",
        "def textrank(d, maxlen=1000):\n",
        "    d = d+\".\" if not d.endswith(\".\") else d\n",
        "    if len(d) < maxlen:\n",
        "        s = d\n",
        "    else:\n",
        "        try:\n",
        "            s = summarize(d)\n",
        "        except:\n",
        "            s = ' '.join(d.split())[:maxlen]\n",
        "        if len(s) > maxlen:\n",
        "            s = ' '.join(s.split())[:maxlen]\n",
        "    return s\n",
        "\n",
        "df['resumen'] = df['texto'].apply(lambda x: textrank(x))\n"
      ],
      "metadata": {
        "id": "S8Isqkz2bph8"
      },
      "execution_count": null,
      "outputs": []
    },
    {
      "cell_type": "code",
      "source": [
        "df['resumen'].apply(lambda x: len(x)).plot.hist(bins=100)\n",
        "df['resumen'].apply(lambda x: len(x)).describe()"
      ],
      "metadata": {
        "colab": {
          "base_uri": "https://localhost:8080/",
          "height": 421
        },
        "id": "eKUdhHW0dPja",
        "outputId": "1c771757-f789-41e3-aa39-ec6e829a8b72"
      },
      "execution_count": null,
      "outputs": [
        {
          "output_type": "execute_result",
          "data": {
            "text/plain": [
              "count    1.073093e+06\n",
              "mean     2.282373e+02\n",
              "std      2.127097e+02\n",
              "min      0.000000e+00\n",
              "25%      8.300000e+01\n",
              "50%      1.580000e+02\n",
              "75%      2.950000e+02\n",
              "max      1.000000e+03\n",
              "Name: resumen, dtype: float64"
            ]
          },
          "metadata": {},
          "execution_count": 12
        },
        {
          "output_type": "display_data",
          "data": {
            "image/png": "[encoded data removed]",
            "text/plain": [
              "<Figure size 432x288 with 1 Axes>"
            ]
          },
          "metadata": {
            "needs_background": "light"
          }
        }
      ]
    },
    {
      "cell_type": "code",
      "source": [
        "df= df.dropna(subset=['motivo'])\n",
        "df= df.dropna(subset=['resumen'])\n",
        "\n",
        "df.head()"
      ],
      "metadata": {
        "colab": {
          "base_uri": "https://localhost:8080/",
          "height": 238
        },
        "id": "DDZV_yo0wj7G",
        "outputId": "fc92650e-3907-435c-aad8-bbef673f9297"
      },
      "execution_count": null,
      "outputs": [
        {
          "output_type": "execute_result",
          "data": {
            "text/html": [
              "\n",
              "  <div id=\"df-97d6aeee-dd35-48b5-86cf-2849fccc6bd8\">\n",
              "    <div class=\"colab-df-container\">\n",
              "      <div>\n",
              "<style scoped>\n",
              "    .dataframe tbody tr th:only-of-type {\n",
              "        vertical-align: middle;\n",
              "    }\n",
              "\n",
              "    .dataframe tbody tr th {\n",
              "        vertical-align: top;\n",
              "    }\n",
              "\n",
              "    .dataframe thead th {\n",
              "        text-align: right;\n",
              "    }\n",
              "</style>\n",
              "<table border=\"1\" class=\"dataframe\">\n",
              "  <thead>\n",
              "    <tr style=\"text-align: right;\">\n",
              "      <th></th>\n",
              "      <th>motivo</th>\n",
              "      <th>texto</th>\n",
              "      <th>resumen</th>\n",
              "    </tr>\n",
              "    <tr>\n",
              "      <th>folio</th>\n",
              "      <th></th>\n",
              "      <th></th>\n",
              "      <th></th>\n",
              "    </tr>\n",
              "  </thead>\n",
              "  <tbody>\n",
              "    <tr>\n",
              "      <th>2</th>\n",
              "      <td>REINSCRIPCION AL CENDI</td>\n",
              "      <td>Buenas noches Sra jefa de gobierno el motivo d...</td>\n",
              "      <td>Buenas noches Sra jefa de gobierno el motivo d...</td>\n",
              "    </tr>\n",
              "    <tr>\n",
              "      <th>6</th>\n",
              "      <td>BARBECHO / CHAPONEO</td>\n",
              "      <td>ABUSO SEXUAL Y MALTRATO INFANTIL Mi nombre es ...</td>\n",
              "      <td></td>\n",
              "    </tr>\n",
              "    <tr>\n",
              "      <th>9</th>\n",
              "      <td>BACHEO</td>\n",
              "      <td>Hay varios Baches en la Calle de Venus, entre ...</td>\n",
              "      <td>Hay varios Baches en la Calle de Venus, entre ...</td>\n",
              "    </tr>\n",
              "    <tr>\n",
              "      <th>10</th>\n",
              "      <td>VENTA DE ALCOHOL / DROGA</td>\n",
              "      <td>Hay un grupo de chavos viciosos que diario y a...</td>\n",
              "      <td>Aquí pasan muchas patrullas a toda hora porque...</td>\n",
              "    </tr>\n",
              "    <tr>\n",
              "      <th>11</th>\n",
              "      <td>USO DE SUELO</td>\n",
              "      <td>Quiero conocer el estatus de uso de suelo del ...</td>\n",
              "      <td>Quiero conocer el estatus de uso de suelo del ...</td>\n",
              "    </tr>\n",
              "  </tbody>\n",
              "</table>\n",
              "</div>\n",
              "      <button class=\"colab-df-convert\" onclick=\"convertToInteractive('df-97d6aeee-dd35-48b5-86cf-2849fccc6bd8')\"\n",
              "              title=\"Convert this dataframe to an interactive table.\"\n",
              "              style=\"display:none;\">\n",
              "        \n",
              "  <svg xmlns=\"http://www.w3.org/2000/svg\" height=\"24px\"viewBox=\"0 0 24 24\"\n",
              "       width=\"24px\">\n",
              "    <path d=\"M0 0h24v24H0V0z\" fill=\"none\"/>\n",
              "    <path d=\"M18.56 5.44l.94 2.06.94-2.06 2.06-.94-2.06-.94-.94-2.06-.94 2.06-2.06.94zm-11 1L8.5 8.5l.94-2.06 2.06-.94-2.06-.94L8.5 2.5l-.94 2.06-2.06.94zm10 10l.94 2.06.94-2.06 2.06-.94-2.06-.94-.94-2.06-.94 2.06-2.06.94z\"/><path d=\"M17.41 7.96l-1.37-1.37c-.4-.4-.92-.59-1.43-.59-.52 0-1.04.2-1.43.59L10.3 9.45l-7.72 7.72c-.78.78-.78 2.05 0 2.83L4 21.41c.39.39.9.59 1.41.59.51 0 1.02-.2 1.41-.59l7.78-7.78 2.81-2.81c.8-.78.8-2.07 0-2.86zM5.41 20L4 18.59l7.72-7.72 1.47 1.35L5.41 20z\"/>\n",
              "  </svg>\n",
              "      </button>\n",
              "      \n",
              "  <style>\n",
              "    .colab-df-container {\n",
              "      display:flex;\n",
              "      flex-wrap:wrap;\n",
              "      gap: 12px;\n",
              "    }\n",
              "\n",
              "    .colab-df-convert {\n",
              "      background-color: #E8F0FE;\n",
              "      border: none;\n",
              "      border-radius: 50%;\n",
              "      cursor: pointer;\n",
              "      display: none;\n",
              "      fill: #1967D2;\n",
              "      height: 32px;\n",
              "      padding: 0 0 0 0;\n",
              "      width: 32px;\n",
              "    }\n",
              "\n",
              "    .colab-df-convert:hover {\n",
              "      background-color: #E2EBFA;\n",
              "      box-shadow: 0px 1px 2px rgba(60, 64, 67, 0.3), 0px 1px 3px 1px rgba(60, 64, 67, 0.15);\n",
              "      fill: #174EA6;\n",
              "    }\n",
              "\n",
              "    [theme=dark] .colab-df-convert {\n",
              "      background-color: #3B4455;\n",
              "      fill: #D2E3FC;\n",
              "    }\n",
              "\n",
              "    [theme=dark] .colab-df-convert:hover {\n",
              "      background-color: #434B5C;\n",
              "      box-shadow: 0px 1px 3px 1px rgba(0, 0, 0, 0.15);\n",
              "      filter: drop-shadow(0px 1px 2px rgba(0, 0, 0, 0.3));\n",
              "      fill: #FFFFFF;\n",
              "    }\n",
              "  </style>\n",
              "\n",
              "      <script>\n",
              "        const buttonEl =\n",
              "          document.querySelector('#df-97d6aeee-dd35-48b5-86cf-2849fccc6bd8 button.colab-df-convert');\n",
              "        buttonEl.style.display =\n",
              "          google.colab.kernel.accessAllowed ? 'block' : 'none';\n",
              "\n",
              "        async function convertToInteractive(key) {\n",
              "          const element = document.querySelector('#df-97d6aeee-dd35-48b5-86cf-2849fccc6bd8');\n",
              "          const dataTable =\n",
              "            await google.colab.kernel.invokeFunction('convertToInteractive',\n",
              "                                                     [key], {});\n",
              "          if (!dataTable) return;\n",
              "\n",
              "          const docLinkHtml = 'Like what you see? Visit the ' +\n",
              "            '<a target=\"_blank\" href=https://colab.research.google.com/notebooks/data_table.ipynb>data table notebook</a>'\n",
              "            + ' to learn more about interactive tables.';\n",
              "          element.innerHTML = '';\n",
              "          dataTable['output_type'] = 'display_data';\n",
              "          await google.colab.output.renderOutput(dataTable, element);\n",
              "          const docLink = document.createElement('div');\n",
              "          docLink.innerHTML = docLinkHtml;\n",
              "          element.appendChild(docLink);\n",
              "        }\n",
              "      </script>\n",
              "    </div>\n",
              "  </div>\n",
              "  "
            ],
            "text/plain": [
              "                         motivo  ...                                            resumen\n",
              "folio                            ...                                                   \n",
              "2        REINSCRIPCION AL CENDI  ...  Buenas noches Sra jefa de gobierno el motivo d...\n",
              "6           BARBECHO / CHAPONEO  ...                                                   \n",
              "9                        BACHEO  ...  Hay varios Baches en la Calle de Venus, entre ...\n",
              "10     VENTA DE ALCOHOL / DROGA  ...  Aquí pasan muchas patrullas a toda hora porque...\n",
              "11                 USO DE SUELO  ...  Quiero conocer el estatus de uso de suelo del ...\n",
              "\n",
              "[5 rows x 3 columns]"
            ]
          },
          "metadata": {},
          "execution_count": 13
        }
      ]
    },
    {
      "cell_type": "markdown",
      "source": [
        "## Preprocesamiento del texto de la descripción (resumen)"
      ],
      "metadata": {
        "id": "pyV20m34y-jk"
      }
    },
    {
      "cell_type": "code",
      "source": [
        "# Homogenizar el texto para optimizar los resultados\n",
        "# usando un pre-procesamiento básico, el cual incluye:\n",
        "# remoción de números, texto a minúsculas, remoción URLs básica\n",
        "# remoción de caracteres de espacios.\n",
        "# IMPORTANTE: Se DEBE usar la misma función de limpieza\n",
        "# tanto en el entrenamiento como en la evaluación de la red.\n",
        "\n",
        "def clean_text(text):\n",
        "    # Removing numbers\n",
        "    text = re.sub(r'[0-9]+', '', text)\n",
        "    # all lower case\n",
        "    text = text.lower()\n",
        "    # Removing the URL links\n",
        "    text = re.sub(r'https?:\\/\\/.*', '', text)\n",
        "    text = re.sub(r'\\w+:\\/{2}[\\d\\w-]+(\\.[\\d\\w-]+)*(?:(?:\\/[^\\s/]*))*', '', text)\n",
        "    text = re.sub(r'[^\\w\\s]+', '', text,re.UNICODE)\n",
        "    # Removing additional whitespaces\n",
        "    text = re.sub(r\" +\", ' ', text)\n",
        "    text = text.lstrip().rstrip()\n",
        "    return text"
      ],
      "metadata": {
        "id": "SeQCG85zyh2K"
      },
      "execution_count": null,
      "outputs": []
    },
    {
      "cell_type": "code",
      "source": [
        "# preprocesar texto para el modelo de subpalabras\n",
        "df_para_subpals['text_clean']=[clean_text(t) for t in df_para_subpals.resumen]\n",
        "df_para_subpals=df_para_subpals.dropna(subset=['text_clean'])\n",
        "# preprocesar texto para el modelo de red neuronal\n",
        "df['text_clean']=[clean_text(t) for t in df.resumen]\n",
        "df= df.dropna(subset=['text_clean'])\n",
        "\n",
        "df.head()"
      ],
      "metadata": {
        "colab": {
          "base_uri": "https://localhost:8080/",
          "height": 368
        },
        "id": "Zc5oOraFzKbL",
        "outputId": "380dbcd4-f616-4f4d-f77f-575fd824342d"
      },
      "execution_count": null,
      "outputs": [
        {
          "output_type": "execute_result",
          "data": {
            "text/html": [
              "\n",
              "  <div id=\"df-830f1751-a562-4aa3-8d61-50a5f12e6472\">\n",
              "    <div class=\"colab-df-container\">\n",
              "      <div>\n",
              "<style scoped>\n",
              "    .dataframe tbody tr th:only-of-type {\n",
              "        vertical-align: middle;\n",
              "    }\n",
              "\n",
              "    .dataframe tbody tr th {\n",
              "        vertical-align: top;\n",
              "    }\n",
              "\n",
              "    .dataframe thead th {\n",
              "        text-align: right;\n",
              "    }\n",
              "</style>\n",
              "<table border=\"1\" class=\"dataframe\">\n",
              "  <thead>\n",
              "    <tr style=\"text-align: right;\">\n",
              "      <th></th>\n",
              "      <th>motivo</th>\n",
              "      <th>texto</th>\n",
              "      <th>resumen</th>\n",
              "      <th>text_clean</th>\n",
              "    </tr>\n",
              "    <tr>\n",
              "      <th>folio</th>\n",
              "      <th></th>\n",
              "      <th></th>\n",
              "      <th></th>\n",
              "      <th></th>\n",
              "    </tr>\n",
              "  </thead>\n",
              "  <tbody>\n",
              "    <tr>\n",
              "      <th>2</th>\n",
              "      <td>REINSCRIPCION AL CENDI</td>\n",
              "      <td>Buenas noches Sra jefa de gobierno el motivo d...</td>\n",
              "      <td>Buenas noches Sra jefa de gobierno el motivo d...</td>\n",
              "      <td>buenas noches sra jefa de gobierno el motivo d...</td>\n",
              "    </tr>\n",
              "    <tr>\n",
              "      <th>6</th>\n",
              "      <td>BARBECHO / CHAPONEO</td>\n",
              "      <td>ABUSO SEXUAL Y MALTRATO INFANTIL Mi nombre es ...</td>\n",
              "      <td></td>\n",
              "      <td></td>\n",
              "    </tr>\n",
              "    <tr>\n",
              "      <th>9</th>\n",
              "      <td>BACHEO</td>\n",
              "      <td>Hay varios Baches en la Calle de Venus, entre ...</td>\n",
              "      <td>Hay varios Baches en la Calle de Venus, entre ...</td>\n",
              "      <td>hay varios baches en la calle de venus entre p...</td>\n",
              "    </tr>\n",
              "    <tr>\n",
              "      <th>10</th>\n",
              "      <td>VENTA DE ALCOHOL / DROGA</td>\n",
              "      <td>Hay un grupo de chavos viciosos que diario y a...</td>\n",
              "      <td>Aquí pasan muchas patrullas a toda hora porque...</td>\n",
              "      <td>aquí pasan muchas patrullas a toda hora porque...</td>\n",
              "    </tr>\n",
              "    <tr>\n",
              "      <th>11</th>\n",
              "      <td>USO DE SUELO</td>\n",
              "      <td>Quiero conocer el estatus de uso de suelo del ...</td>\n",
              "      <td>Quiero conocer el estatus de uso de suelo del ...</td>\n",
              "      <td>quiero conocer el estatus de uso de suelo del ...</td>\n",
              "    </tr>\n",
              "  </tbody>\n",
              "</table>\n",
              "</div>\n",
              "      <button class=\"colab-df-convert\" onclick=\"convertToInteractive('df-830f1751-a562-4aa3-8d61-50a5f12e6472')\"\n",
              "              title=\"Convert this dataframe to an interactive table.\"\n",
              "              style=\"display:none;\">\n",
              "        \n",
              "  <svg xmlns=\"http://www.w3.org/2000/svg\" height=\"24px\"viewBox=\"0 0 24 24\"\n",
              "       width=\"24px\">\n",
              "    <path d=\"M0 0h24v24H0V0z\" fill=\"none\"/>\n",
              "    <path d=\"M18.56 5.44l.94 2.06.94-2.06 2.06-.94-2.06-.94-.94-2.06-.94 2.06-2.06.94zm-11 1L8.5 8.5l.94-2.06 2.06-.94-2.06-.94L8.5 2.5l-.94 2.06-2.06.94zm10 10l.94 2.06.94-2.06 2.06-.94-2.06-.94-.94-2.06-.94 2.06-2.06.94z\"/><path d=\"M17.41 7.96l-1.37-1.37c-.4-.4-.92-.59-1.43-.59-.52 0-1.04.2-1.43.59L10.3 9.45l-7.72 7.72c-.78.78-.78 2.05 0 2.83L4 21.41c.39.39.9.59 1.41.59.51 0 1.02-.2 1.41-.59l7.78-7.78 2.81-2.81c.8-.78.8-2.07 0-2.86zM5.41 20L4 18.59l7.72-7.72 1.47 1.35L5.41 20z\"/>\n",
              "  </svg>\n",
              "      </button>\n",
              "      \n",
              "  <style>\n",
              "    .colab-df-container {\n",
              "      display:flex;\n",
              "      flex-wrap:wrap;\n",
              "      gap: 12px;\n",
              "    }\n",
              "\n",
              "    .colab-df-convert {\n",
              "      background-color: #E8F0FE;\n",
              "      border: none;\n",
              "      border-radius: 50%;\n",
              "      cursor: pointer;\n",
              "      display: none;\n",
              "      fill: #1967D2;\n",
              "      height: 32px;\n",
              "      padding: 0 0 0 0;\n",
              "      width: 32px;\n",
              "    }\n",
              "\n",
              "    .colab-df-convert:hover {\n",
              "      background-color: #E2EBFA;\n",
              "      box-shadow: 0px 1px 2px rgba(60, 64, 67, 0.3), 0px 1px 3px 1px rgba(60, 64, 67, 0.15);\n",
              "      fill: #174EA6;\n",
              "    }\n",
              "\n",
              "    [theme=dark] .colab-df-convert {\n",
              "      background-color: #3B4455;\n",
              "      fill: #D2E3FC;\n",
              "    }\n",
              "\n",
              "    [theme=dark] .colab-df-convert:hover {\n",
              "      background-color: #434B5C;\n",
              "      box-shadow: 0px 1px 3px 1px rgba(0, 0, 0, 0.15);\n",
              "      filter: drop-shadow(0px 1px 2px rgba(0, 0, 0, 0.3));\n",
              "      fill: #FFFFFF;\n",
              "    }\n",
              "  </style>\n",
              "\n",
              "      <script>\n",
              "        const buttonEl =\n",
              "          document.querySelector('#df-830f1751-a562-4aa3-8d61-50a5f12e6472 button.colab-df-convert');\n",
              "        buttonEl.style.display =\n",
              "          google.colab.kernel.accessAllowed ? 'block' : 'none';\n",
              "\n",
              "        async function convertToInteractive(key) {\n",
              "          const element = document.querySelector('#df-830f1751-a562-4aa3-8d61-50a5f12e6472');\n",
              "          const dataTable =\n",
              "            await google.colab.kernel.invokeFunction('convertToInteractive',\n",
              "                                                     [key], {});\n",
              "          if (!dataTable) return;\n",
              "\n",
              "          const docLinkHtml = 'Like what you see? Visit the ' +\n",
              "            '<a target=\"_blank\" href=https://colab.research.google.com/notebooks/data_table.ipynb>data table notebook</a>'\n",
              "            + ' to learn more about interactive tables.';\n",
              "          element.innerHTML = '';\n",
              "          dataTable['output_type'] = 'display_data';\n",
              "          await google.colab.output.renderOutput(dataTable, element);\n",
              "          const docLink = document.createElement('div');\n",
              "          docLink.innerHTML = docLinkHtml;\n",
              "          element.appendChild(docLink);\n",
              "        }\n",
              "      </script>\n",
              "    </div>\n",
              "  </div>\n",
              "  "
            ],
            "text/plain": [
              "                         motivo  ...                                         text_clean\n",
              "folio                            ...                                                   \n",
              "2        REINSCRIPCION AL CENDI  ...  buenas noches sra jefa de gobierno el motivo d...\n",
              "6           BARBECHO / CHAPONEO  ...                                                   \n",
              "9                        BACHEO  ...  hay varios baches en la calle de venus entre p...\n",
              "10     VENTA DE ALCOHOL / DROGA  ...  aquí pasan muchas patrullas a toda hora porque...\n",
              "11                 USO DE SUELO  ...  quiero conocer el estatus de uso de suelo del ...\n",
              "\n",
              "[5 rows x 4 columns]"
            ]
          },
          "metadata": {},
          "execution_count": 15
        }
      ]
    },
    {
      "cell_type": "markdown",
      "source": [
        "## Generación de diccionario de etiquetas de clase\n"
      ],
      "metadata": {
        "id": "TDcSo0Dw0F12"
      }
    },
    {
      "cell_type": "code",
      "source": [
        "# Asignar un número entero como identificador de cada una de las clases.\n",
        "# IMPORTANTE: Usar el mismo número durante entrenamiento, evaluación y pruebas.\n",
        "\n",
        "data_labels = df.motivo.values\n",
        "label_dict = {motivo:i for i, motivo in  enumerate(sorted(set(data_labels)))}\n",
        "nclasses = len(set(data_labels))\n",
        "print(nclasses)\n",
        "print(label_dict)\n",
        "\n",
        "df['label'] = [label_dict[x] for x in df.motivo.values]\n",
        "\n",
        "id_labels=pd.DataFrame.from_dict(label_dict,orient='index', columns=['motivo'])\n",
        "\n",
        "# conteo de frecuencias de clase\n",
        "groups = df.groupby('label')\n",
        "g = groups.size()"
      ],
      "metadata": {
        "colab": {
          "base_uri": "https://localhost:8080/"
        },
        "id": "e3koM6K7zehE",
        "outputId": "3131445f-3de9-490e-d0e3-a4a17d4962f8"
      },
      "execution_count": null,
      "outputs": [
        {
          "output_type": "stream",
          "name": "stdout",
          "text": [
            "48\n",
            "{'ALARMAS VECINALES': 0, 'ALERTA SISMICA': 1, 'ALUMBRADO': 2, 'APOYO SERVICIOS FUNERARIOS': 3, 'ASESORÍA DE TERCEROS ACREDITADOS': 4, 'ASESORÍA JURÍDICA': 5, 'ASISTENCIA SOCIAL': 6, 'ASISTENCIA VETERINARIA': 7, 'BACHEO': 8, 'BALIZAMIENTO': 9, 'BARBECHO / CHAPONEO': 10, 'BECAS': 11, 'COVID': 12, 'CRÉDITO DE VIVIENDA': 13, 'DESAZOLVE': 14, 'FALTA DE AGUA': 15, 'FUGA DE AGUA': 16, 'LIMPIEZA VIA PUBLICA': 17, 'LLAVE CDMX': 18, 'MANTENIMIENTO DE COLADERA / ALCANTARILLA': 19, 'MANTENIMIENTO DRENAJE': 20, 'MANTENIMIENTO PARQUE / AREA VERDE': 21, 'MANTENIMIENTO SEMÁFOROS': 22, 'MANTENIMIENTO VÍA PÚBLICA': 23, 'PAVIMENTACION': 24, 'PODA / RETIRO ARBOL': 25, 'PROGRAMA APOYO A CUIDADORES': 26, 'PROTECCION CIVIL': 27, 'QUEJA DE TRANSPORTE PUBLICO': 28, 'QUEJA FUNCIONARIO': 29, 'RECOLECCIÓN BASURA': 30, 'REGISTRO FERIAS INDIGENAS': 31, 'REINSCRIPCION AL CENDI': 32, 'REPARACION DE EMPEDRADO': 33, 'RETIRO AMBULANTE': 34, 'RETIRO CASCAJO, ESCOMBRO, AZOLVE, RAMAS': 35, 'SOLICITU DE AUDIENCIA': 36, 'SOLICITUD DE CONCERTACIÓN VECINAL': 37, 'SOLICITUD DE VIGILANCIA': 38, 'SOLICITUD DE VOLANTEO': 39, 'SOLICITUD ESTUDIO SOCIOECONOMICO': 40, 'SOLICITUD EVALUACIÓN DE RIESGO': 41, 'SOLICITUD/SEGURO DE DESEMPLEO': 42, 'TRAMITES / INFO VEHICULAR': 43, 'USO DE SUELO': 44, 'VEHÍCULO ABANDONADO / CHATARRIZACIÓN': 45, 'VENTA DE ALCOHOL / DROGA': 46, 'VERIFICACIÓN ADMINISTRATIVA': 47}\n"
          ]
        }
      ]
    },
    {
      "cell_type": "markdown",
      "source": [
        "## Almacenamiento de datos preprocesados y diccionario de etiquetas de clase"
      ],
      "metadata": {
        "id": "GikSopbs0XFO"
      }
    },
    {
      "cell_type": "code",
      "source": [
        "# Salvar los resultados hasta el momento para no tener que repetir toda la preparación.\n",
        "\n",
        "id_labels.to_csv('data/label_dict.csv',\n",
        "          sep='\\t',\n",
        "          encoding='utf-8',\n",
        "          index=True)\n",
        "\n",
        "g.to_csv('data/motivo_freq_clase.csv',\n",
        "         sep='\\t',\n",
        "         encoding='utf-8',\n",
        "         quotechar='\"',\n",
        "         quoting=csv.QUOTE_NONNUMERIC)\n",
        "\n",
        "# eliminar duplicados\n",
        "df = df.drop_duplicates(subset=['label', 'text_clean'], keep='first')\n",
        "\n",
        "df.to_csv('data/prepro_suac.csv',\n",
        "          sep='\\t',\n",
        "          encoding='utf-8',\n",
        "          index=True,\n",
        "          quotechar='\"',\n",
        "          quoting=csv.QUOTE_NONNUMERIC)\n",
        "\n",
        "df_para_subpals.to_csv('data/subpals_train_suac.csv',\n",
        "          sep='\\t',\n",
        "          encoding='utf-8',\n",
        "          index=True,\n",
        "          quotechar='\"',\n",
        "          quoting=csv.QUOTE_NONNUMERIC)\n",
        "\n",
        "df_sin_motivo.to_csv('data/sin_motivo_suac.csv',\n",
        "          sep='\\t',\n",
        "          encoding='utf-8',\n",
        "          index=True,\n",
        "          quotechar='\"',\n",
        "          quoting=csv.QUOTE_NONNUMERIC)"
      ],
      "metadata": {
        "id": "pGpRuyrx0Q2o"
      },
      "execution_count": null,
      "outputs": []
    },
    {
      "cell_type": "markdown",
      "source": [
        "# STAGE 2 Generación de modelo de subpalabras con algoritmo Byte Pair Encoding (BPE)"
      ],
      "metadata": {
        "id": "31EGxfF11TiY"
      }
    },
    {
      "cell_type": "code",
      "source": [
        "# carga de datos preprocesados\n",
        "df = pd.read_csv(\"data/prepro_suac.csv\",\n",
        "    engine=\"python\",\n",
        "    encoding=\"UTF-8\",\n",
        "    sep='\\t')\n",
        "\n",
        "# carga de diccionario de clases\n",
        "id_labels = pd.read_csv('data/label_dict.csv',\n",
        "    engine=\"python\",\n",
        "    encoding=\"UTF-8\",\n",
        "    sep='\\t')\n",
        "\n",
        "# carga de conteos de instancias por clase\n",
        "counts_class = pd.read_csv('data/motivo_freq_clase.csv',\n",
        "    engine=\"python\",\n",
        "    encoding=\"UTF-8\",\n",
        "    sep='\\t')\n",
        "\n",
        "# carga de df para modelo de subpalabras\n",
        "df_para_subpals=pd.read_csv('data/subpals_train_suac.csv',\n",
        "    engine=\"python\",\n",
        "    encoding=\"UTF-8\",\n",
        "    sep='\\t')"
      ],
      "metadata": {
        "id": "yQ59TJPG1UPn"
      },
      "execution_count": null,
      "outputs": []
    },
    {
      "cell_type": "code",
      "source": [
        "# remoción de na\n",
        "df= df.dropna(subset=['text_clean'])\n",
        "np.where(pd.isnull(df))\n",
        "\n",
        "df_para_subpals= df_para_subpals.dropna(subset=['text_clean'])\n",
        "np.where(pd.isnull(df_para_subpals))\n",
        "\n",
        "df_para_subpals.head()"
      ],
      "metadata": {
        "colab": {
          "base_uri": "https://localhost:8080/",
          "height": 337
        },
        "id": "HMQI_6ev3YwK",
        "outputId": "4ec7cdcc-96e8-47ee-ee5e-481c4770376f"
      },
      "execution_count": null,
      "outputs": [
        {
          "output_type": "execute_result",
          "data": {
            "text/html": [
              "\n",
              "  <div id=\"df-73bc55ef-22db-4bb8-87be-533912439c1b\">\n",
              "    <div class=\"colab-df-container\">\n",
              "      <div>\n",
              "<style scoped>\n",
              "    .dataframe tbody tr th:only-of-type {\n",
              "        vertical-align: middle;\n",
              "    }\n",
              "\n",
              "    .dataframe tbody tr th {\n",
              "        vertical-align: top;\n",
              "    }\n",
              "\n",
              "    .dataframe thead th {\n",
              "        text-align: right;\n",
              "    }\n",
              "</style>\n",
              "<table border=\"1\" class=\"dataframe\">\n",
              "  <thead>\n",
              "    <tr style=\"text-align: right;\">\n",
              "      <th></th>\n",
              "      <th>folio</th>\n",
              "      <th>motivo</th>\n",
              "      <th>texto</th>\n",
              "      <th>resumen</th>\n",
              "      <th>text_clean</th>\n",
              "    </tr>\n",
              "  </thead>\n",
              "  <tbody>\n",
              "    <tr>\n",
              "      <th>0</th>\n",
              "      <td>1</td>\n",
              "      <td>NaN</td>\n",
              "      <td>¿Donde puedo denunciar abuso sexual y violenci...</td>\n",
              "      <td>¿Donde puedo denunciar abuso sexual y violenci...</td>\n",
              "      <td>donde puedo denunciar abuso sexual y violencia...</td>\n",
              "    </tr>\n",
              "    <tr>\n",
              "      <th>1</th>\n",
              "      <td>2</td>\n",
              "      <td>REINSCRIPCION AL CENDI</td>\n",
              "      <td>Buenas noches Sra jefa de gobierno el motivo d...</td>\n",
              "      <td>Buenas noches Sra jefa de gobierno el motivo d...</td>\n",
              "      <td>buenas noches sra jefa de gobierno el motivo d...</td>\n",
              "    </tr>\n",
              "    <tr>\n",
              "      <th>2</th>\n",
              "      <td>3</td>\n",
              "      <td>NaN</td>\n",
              "      <td>Estuve dentro de la CAMPAÑA que llegó a la vic...</td>\n",
              "      <td>Estuve dentro de la CAMPAÑA que llegó a la vic...</td>\n",
              "      <td>estuve dentro de la campaña que llegó a la vic...</td>\n",
              "    </tr>\n",
              "    <tr>\n",
              "      <th>3</th>\n",
              "      <td>4</td>\n",
              "      <td>NaN</td>\n",
              "      <td>Violencia a menores de edad ya envié la inform...</td>\n",
              "      <td>Violencia a menores de edad ya envié la inform...</td>\n",
              "      <td>violencia a menores de edad ya envié la inform...</td>\n",
              "    </tr>\n",
              "    <tr>\n",
              "      <th>4</th>\n",
              "      <td>5</td>\n",
              "      <td>NaN</td>\n",
              "      <td>EStos niños están siendo abusados por su propi...</td>\n",
              "      <td>EStos niños están siendo abusados por su propi...</td>\n",
              "      <td>estos niños están siendo abusados por su propi...</td>\n",
              "    </tr>\n",
              "  </tbody>\n",
              "</table>\n",
              "</div>\n",
              "      <button class=\"colab-df-convert\" onclick=\"convertToInteractive('df-73bc55ef-22db-4bb8-87be-533912439c1b')\"\n",
              "              title=\"Convert this dataframe to an interactive table.\"\n",
              "              style=\"display:none;\">\n",
              "        \n",
              "  <svg xmlns=\"http://www.w3.org/2000/svg\" height=\"24px\"viewBox=\"0 0 24 24\"\n",
              "       width=\"24px\">\n",
              "    <path d=\"M0 0h24v24H0V0z\" fill=\"none\"/>\n",
              "    <path d=\"M18.56 5.44l.94 2.06.94-2.06 2.06-.94-2.06-.94-.94-2.06-.94 2.06-2.06.94zm-11 1L8.5 8.5l.94-2.06 2.06-.94-2.06-.94L8.5 2.5l-.94 2.06-2.06.94zm10 10l.94 2.06.94-2.06 2.06-.94-2.06-.94-.94-2.06-.94 2.06-2.06.94z\"/><path d=\"M17.41 7.96l-1.37-1.37c-.4-.4-.92-.59-1.43-.59-.52 0-1.04.2-1.43.59L10.3 9.45l-7.72 7.72c-.78.78-.78 2.05 0 2.83L4 21.41c.39.39.9.59 1.41.59.51 0 1.02-.2 1.41-.59l7.78-7.78 2.81-2.81c.8-.78.8-2.07 0-2.86zM5.41 20L4 18.59l7.72-7.72 1.47 1.35L5.41 20z\"/>\n",
              "  </svg>\n",
              "      </button>\n",
              "      \n",
              "  <style>\n",
              "    .colab-df-container {\n",
              "      display:flex;\n",
              "      flex-wrap:wrap;\n",
              "      gap: 12px;\n",
              "    }\n",
              "\n",
              "    .colab-df-convert {\n",
              "      background-color: #E8F0FE;\n",
              "      border: none;\n",
              "      border-radius: 50%;\n",
              "      cursor: pointer;\n",
              "      display: none;\n",
              "      fill: #1967D2;\n",
              "      height: 32px;\n",
              "      padding: 0 0 0 0;\n",
              "      width: 32px;\n",
              "    }\n",
              "\n",
              "    .colab-df-convert:hover {\n",
              "      background-color: #E2EBFA;\n",
              "      box-shadow: 0px 1px 2px rgba(60, 64, 67, 0.3), 0px 1px 3px 1px rgba(60, 64, 67, 0.15);\n",
              "      fill: #174EA6;\n",
              "    }\n",
              "\n",
              "    [theme=dark] .colab-df-convert {\n",
              "      background-color: #3B4455;\n",
              "      fill: #D2E3FC;\n",
              "    }\n",
              "\n",
              "    [theme=dark] .colab-df-convert:hover {\n",
              "      background-color: #434B5C;\n",
              "      box-shadow: 0px 1px 3px 1px rgba(0, 0, 0, 0.15);\n",
              "      filter: drop-shadow(0px 1px 2px rgba(0, 0, 0, 0.3));\n",
              "      fill: #FFFFFF;\n",
              "    }\n",
              "  </style>\n",
              "\n",
              "      <script>\n",
              "        const buttonEl =\n",
              "          document.querySelector('#df-73bc55ef-22db-4bb8-87be-533912439c1b button.colab-df-convert');\n",
              "        buttonEl.style.display =\n",
              "          google.colab.kernel.accessAllowed ? 'block' : 'none';\n",
              "\n",
              "        async function convertToInteractive(key) {\n",
              "          const element = document.querySelector('#df-73bc55ef-22db-4bb8-87be-533912439c1b');\n",
              "          const dataTable =\n",
              "            await google.colab.kernel.invokeFunction('convertToInteractive',\n",
              "                                                     [key], {});\n",
              "          if (!dataTable) return;\n",
              "\n",
              "          const docLinkHtml = 'Like what you see? Visit the ' +\n",
              "            '<a target=\"_blank\" href=https://colab.research.google.com/notebooks/data_table.ipynb>data table notebook</a>'\n",
              "            + ' to learn more about interactive tables.';\n",
              "          element.innerHTML = '';\n",
              "          dataTable['output_type'] = 'display_data';\n",
              "          await google.colab.output.renderOutput(dataTable, element);\n",
              "          const docLink = document.createElement('div');\n",
              "          docLink.innerHTML = docLinkHtml;\n",
              "          element.appendChild(docLink);\n",
              "        }\n",
              "      </script>\n",
              "    </div>\n",
              "  </div>\n",
              "  "
            ],
            "text/plain": [
              "   folio  ...                                         text_clean\n",
              "0      1  ...  donde puedo denunciar abuso sexual y violencia...\n",
              "1      2  ...  buenas noches sra jefa de gobierno el motivo d...\n",
              "2      3  ...  estuve dentro de la campaña que llegó a la vic...\n",
              "3      4  ...  violencia a menores de edad ya envié la inform...\n",
              "4      5  ...  estos niños están siendo abusados por su propi...\n",
              "\n",
              "[5 rows x 5 columns]"
            ]
          },
          "metadata": {},
          "execution_count": 19
        }
      ]
    },
    {
      "cell_type": "markdown",
      "source": [
        "## Generación de encoder/decoder basado en subpalabras"
      ],
      "metadata": {
        "id": "0HGyYShg15aK"
      }
    },
    {
      "cell_type": "code",
      "source": [
        "# ATENCIÓN -> Carga desde archivos evitará tiempos largos de entrenamiento\n",
        "subpal_path= 'data/subpal_encoder'\n",
        "\n",
        "# PARÁMETRIZACIÓN MODELO SUBPALS BPE\n",
        "SIZE_VOCAB = 2**14\n",
        "MAXSUBWORD_LEN = 4\n",
        "\n",
        "# Construir un modelo de subpalabras desde cero\n",
        "#subpal_encoder = tfds.deprecated.text.SubwordTextEncoder.build_from_corpus(\n",
        "#    df_para_subpals.text_clean,\n",
        "#    target_vocab_size=SIZE_VOCAB,\n",
        "#    max_subword_length=MAXSUBWORD_LEN\n",
        "#)\n",
        "#subpal_encoder.save_to_file(subpal_path)\n",
        "\n",
        "# Usar modelo entrenado cargándolo desde un archivo (pre-entrenado)\n",
        "subpal_encoder = tfds.deprecated.text.SubwordTextEncoder.load_from_file(subpal_path)\n"
      ],
      "metadata": {
        "id": "gn9v_9Y215wa"
      },
      "execution_count": null,
      "outputs": []
    },
    {
      "cell_type": "markdown",
      "source": [
        "# STAGE 3 Preparación de in/out para Redes Neuronales\n"
      ],
      "metadata": {
        "id": "2HZDDYNP6bhA"
      }
    },
    {
      "cell_type": "markdown",
      "source": [
        "## Codificación de inputs en subpals"
      ],
      "metadata": {
        "id": "hNol1D2I6g90"
      }
    },
    {
      "cell_type": "code",
      "source": [
        "data_inputs = [subpal_encoder.encode(text) for text in df.text_clean]"
      ],
      "metadata": {
        "id": "ppBnemtL3HHG"
      },
      "execution_count": null,
      "outputs": []
    },
    {
      "cell_type": "markdown",
      "source": [
        "## Padding"
      ],
      "metadata": {
        "id": "B_QR-CrV6uaW"
      }
    },
    {
      "cell_type": "code",
      "source": [
        "# MAX_LEN es la máxima longitud pero en número de subpalabras dado que data_inputs\n",
        "# ya fue previamente codificado en subpalabras usando el modelo pre-entrenado\n",
        "\n",
        "MAX_LEN = max([len(text) for text in data_inputs])\n",
        "data_inputs = tf.keras.preprocessing.sequence.pad_sequences(data_inputs,\n",
        "                                                            value=0,\n",
        "                                                            padding=\"post\",\n",
        "                                                            maxlen=MAX_LEN)\n",
        "print(MAX_LEN)"
      ],
      "metadata": {
        "colab": {
          "base_uri": "https://localhost:8080/"
        },
        "id": "Jma_DZYh6rqJ",
        "outputId": "7a25768a-961c-4654-90ab-03d736949a7b"
      },
      "execution_count": null,
      "outputs": [
        {
          "output_type": "stream",
          "name": "stdout",
          "text": [
            "334\n"
          ]
        }
      ]
    },
    {
      "cell_type": "markdown",
      "source": [
        "# STAGE 4 Convolutional Neural Network (CNN)"
      ],
      "metadata": {
        "id": "HjjFoM_r7L3K"
      }
    },
    {
      "cell_type": "markdown",
      "source": [
        "## Definición de la arquitectura modelo Convolutional Neural Network (CNN)"
      ],
      "metadata": {
        "id": "2e6uvFlGhk5C"
      }
    },
    {
      "cell_type": "code",
      "source": [
        "class DCNN(tf.keras.Model):\n",
        "\n",
        "    def __init__(self,\n",
        "                 vocab_size,\n",
        "                 emb_dim=128,\n",
        "                 nb_filters=50,\n",
        "                 FFN_units=512,\n",
        "                 nb_classes=2,\n",
        "                 #dropout_rate=0.1,\n",
        "                 dropout_rate=0.15,\n",
        "                 training=False,\n",
        "                 name=\"dcnn\"):\n",
        "        super(DCNN, self).__init__(name=name)\n",
        "\n",
        "        self.embedding = layers.Embedding(vocab_size,\n",
        "                                          emb_dim)\n",
        "        self.bigram = layers.Conv1D(filters=nb_filters,\n",
        "                                    kernel_size=2,\n",
        "                                    padding=\"valid\",\n",
        "                                    activation=\"relu\")\n",
        "        self.pool_1 = layers.GlobalMaxPool1D()\n",
        "        self.trigram = layers.Conv1D(filters=nb_filters,\n",
        "                                     kernel_size=3,\n",
        "                                     padding=\"valid\",\n",
        "                                     activation=\"relu\")\n",
        "        self.pool_2 = layers.GlobalMaxPool1D()\n",
        "        self.fourgram = layers.Conv1D(filters=nb_filters,\n",
        "                                      kernel_size=4,\n",
        "                                      padding=\"valid\",\n",
        "                                      activation=\"relu\")\n",
        "        self.pool_3 = layers.GlobalMaxPool1D()\n",
        "        self.dense_1 = layers.Dense(units=FFN_units, activation=\"relu\")\n",
        "        self.dropout = layers.Dropout(rate=dropout_rate)\n",
        "        if nb_classes == 2:\n",
        "            self.last_dense = layers.Dense(units=1,\n",
        "                                           activation=\"sigmoid\")\n",
        "        else:\n",
        "            self.last_dense = layers.Dense(units=nb_classes,\n",
        "                                           activation=\"softmax\")\n",
        "\n",
        "    def call(self, inputs, training):\n",
        "        x = self.embedding(inputs)\n",
        "        x_1 = self.bigram(x)\n",
        "        x_1 = self.pool_1(x_1)\n",
        "        x_2 = self.trigram(x)\n",
        "        x_2 = self.pool_2(x_2)\n",
        "        x_3 = self.fourgram(x)\n",
        "        x_3 = self.pool_3(x_3)\n",
        "\n",
        "        merged = tf.concat([x_1, x_2, x_3], axis=-1) # (batch_size, 3 * nb_filters)\n",
        "        merged = self.dense_1(merged)\n",
        "        merged = self.dropout(merged, training)\n",
        "        output = self.last_dense(merged)\n",
        "\n",
        "        return output"
      ],
      "metadata": {
        "id": "leqh3KQr7GjV"
      },
      "execution_count": null,
      "outputs": []
    },
    {
      "cell_type": "markdown",
      "source": [
        "## Parámetros de entrenamiento de la red neuronal deep learning (CNN)"
      ],
      "metadata": {
        "id": "nvOYTFoTh7Dx"
      }
    },
    {
      "cell_type": "code",
      "source": [
        "NB_CLASSES = len(set(df.label.values))\n",
        "BATCH_SIZE = 1024\n",
        "NB_EPOCHS = 1\n",
        "\n",
        "Dcnn = DCNN(vocab_size= subpal_encoder.vocab_size,\n",
        "            nb_classes=NB_CLASSES,\n",
        "            training=True)\n",
        "\n",
        "Dcnn.compile(loss=\"sparse_categorical_crossentropy\",\n",
        "             optimizer=\"adam\",\n",
        "             metrics=[\"sparse_categorical_accuracy\"])\n",
        "\n",
        "def get_model():\n",
        "  return DCNN(vocab_size= subpal_encoder.vocab_size, nb_classes=NB_CLASSES, training=True)\n",
        "\n",
        "model = get_model()\n",
        "\n",
        "model.compile(loss=\"sparse_categorical_crossentropy\",\n",
        "             optimizer=\"adam\",\n",
        "             metrics=[\"sparse_categorical_accuracy\"])"
      ],
      "metadata": {
        "id": "rHUp7kvB7SuW"
      },
      "execution_count": null,
      "outputs": []
    },
    {
      "cell_type": "markdown",
      "source": [
        "## Uso de checkpoints de entrenamiento"
      ],
      "metadata": {
        "id": "YdbjGHwYiBQo"
      }
    },
    {
      "cell_type": "code",
      "source": [
        "# usamos checkpoint para reusar avances en el entrenamiento de la red CNN\n",
        "checkpoint_path = \"ckpt\"\n",
        "\n",
        "ckpt = tf.train.Checkpoint(Dcnn=Dcnn)\n",
        "\n",
        "ckpt_manager = tf.train.CheckpointManager(ckpt, checkpoint_path, max_to_keep=1)\n",
        "\n",
        "if ckpt_manager.latest_checkpoint:\n",
        "    ckpt.restore(ckpt_manager.latest_checkpoint)\n",
        "    print(\"Latest checkpoint restored!\")"
      ],
      "metadata": {
        "colab": {
          "base_uri": "https://localhost:8080/"
        },
        "id": "pDvH7ivY7nbb",
        "outputId": "a774cfbb-1b9e-4626-ef8b-15c17fc044d5"
      },
      "execution_count": null,
      "outputs": [
        {
          "output_type": "stream",
          "name": "stdout",
          "text": [
            "Latest checkpoint restored!\n"
          ]
        }
      ]
    },
    {
      "cell_type": "markdown",
      "source": [
        "## Split entrenamiento/test con muestreo estratificado"
      ],
      "metadata": {
        "id": "dWQy-TCC8Mx8"
      }
    },
    {
      "cell_type": "code",
      "source": [
        "# https://scikit-learn.org/stable/modules/generated/sklearn.model_selection.StratifiedKFold.html\n",
        "# Stratified K-Folds cross-validator.\n",
        "# Provides train/test indices to split data in train/test sets.\n",
        "# This cross-validation object is a variation of KFold that returns stratified folds.\n",
        "# The folds are made by preserving the percentage of samples for each class.\n",
        "\n",
        "SPLIT=5\n",
        "skf = StratifiedKFold(n_splits=SPLIT, shuffle=True)\n",
        "\n",
        "print('StratifiedKFold with splits=',SPLIT)\n",
        "\n",
        "X = data_inputs\n",
        "y = df.label.values\n",
        "\n",
        "fold=0\n",
        "for train_index, test_index in skf.split(data_inputs, df.label.values):\n",
        "    #print(\"TRAIN:\", train_index, \"TEST:\", test_index)\n",
        "    X_train, X_test = X[train_index], X[test_index]\n",
        "    y_train, y_test = y[train_index], y[test_index]\n",
        "    if fold == 2:\n",
        "        break\n",
        "    else:\n",
        "        fold+=1\n",
        "\n",
        "    ################################\n",
        "    if ckpt_manager.latest_checkpoint:\n",
        "        ckpt.restore(ckpt_manager.latest_checkpoint)\n",
        "        print(\"Latest checkpoint restored!\")\n",
        "\n",
        "    history = model.fit(X_train,\n",
        "                   y_train,\n",
        "                   batch_size=BATCH_SIZE,\n",
        "                   epochs=NB_EPOCHS,\n",
        "                   # We pass some validation for\n",
        "                   # monitoring validation loss and metrics\n",
        "                   # at the end of each epoch\n",
        "                   #validation_data=(X_test, y_test)\n",
        "                   )\n",
        "    ckpt_manager.save()\n",
        "    print('**********EVAL**************', fold)\n",
        "    results = model.evaluate(X_test, y_test, batch_size=BATCH_SIZE)\n",
        "    print(results)\n",
        "    print('*************************** REPORT', fold)\n",
        "    y_pred = [np.argmax(assigns) for assigns in model.predict(X_test)]\n",
        "    y_true = y_test.tolist()\n",
        "    class_names=[id_labels.iloc[i,0] for i in range(len(id_labels))]\n",
        "    #print(classification_report(y_true, y_pred, target_names=class_names))\n",
        "    # como string para print\n",
        "    metrics_report = classification_report(y_true, y_pred)\n",
        "    print(metrics_report)\n",
        "    print('*************************** END', fold)\n",
        "    weights_path = \"weights/CNN_locatel_weights{}\".format(fold)\n",
        "    model.save_weights(weights_path, save_format='tf')\n",
        "\n",
        "model.summary()"
      ],
      "metadata": {
        "colab": {
          "base_uri": "https://localhost:8080/"
        },
        "id": "4HNwEV_T8NHJ",
        "outputId": "f423d267-a585-49b9-82e5-b807f3fa989a"
      },
      "execution_count": null,
      "outputs": [
        {
          "output_type": "stream",
          "name": "stdout",
          "text": [
            "StratifiedKFold with splits= 5\n",
            "Latest checkpoint restored!\n",
            "499/499 [==============================] - 1937s 4s/step - loss: 0.5402 - sparse_categorical_accuracy: 0.8574\n",
            "**********EVAL************** 1\n",
            "125/125 [==============================] - 111s 887ms/step - loss: 0.1435 - sparse_categorical_accuracy: 0.9456\n",
            "[0.14350742101669312, 0.9455710053443909]\n",
            "*************************** REPORT 1\n"
          ]
        },
        {
          "output_type": "stream",
          "name": "stderr",
          "text": [
            "/usr/local/lib/python3.7/dist-packages/sklearn/metrics/_classification.py:1318: UndefinedMetricWarning: Precision and F-score are ill-defined and being set to 0.0 in labels with no predicted samples. Use `zero_division` parameter to control this behavior.\n",
            "  _warn_prf(average, modifier, msg_start, len(result))\n",
            "/usr/local/lib/python3.7/dist-packages/sklearn/metrics/_classification.py:1318: UndefinedMetricWarning: Precision and F-score are ill-defined and being set to 0.0 in labels with no predicted samples. Use `zero_division` parameter to control this behavior.\n",
            "  _warn_prf(average, modifier, msg_start, len(result))\n",
            "/usr/local/lib/python3.7/dist-packages/sklearn/metrics/_classification.py:1318: UndefinedMetricWarning: Precision and F-score are ill-defined and being set to 0.0 in labels with no predicted samples. Use `zero_division` parameter to control this behavior.\n",
            "  _warn_prf(average, modifier, msg_start, len(result))\n"
          ]
        },
        {
          "output_type": "stream",
          "name": "stdout",
          "text": [
            "              precision    recall  f1-score   support\n",
            "\n",
            "           0       0.96      0.83      0.89        90\n",
            "           1       0.99      0.99      0.99      4890\n",
            "           2       0.98      0.99      0.99     19510\n",
            "           3       1.00      0.02      0.05        43\n",
            "           4       0.95      0.97      0.96        40\n",
            "           5       0.96      0.96      0.96       134\n",
            "           6       0.98      0.71      0.82       237\n",
            "           7       1.00      0.93      0.96       100\n",
            "           8       0.93      0.99      0.96      5357\n",
            "           9       0.94      0.97      0.95       653\n",
            "          10       0.99      0.99      0.99      1077\n",
            "          11       0.94      0.91      0.93       487\n",
            "          12       0.86      0.91      0.88      3646\n",
            "          13       0.96      0.74      0.84        35\n",
            "          14       0.93      0.99      0.96      6890\n",
            "          15       0.99      0.97      0.98     12595\n",
            "          16       0.95      0.98      0.97      8791\n",
            "          17       0.95      0.81      0.88       300\n",
            "          18       0.84      0.98      0.90       411\n",
            "          19       0.97      0.83      0.89      3457\n",
            "          20       0.81      0.87      0.84      2198\n",
            "          21       0.81      0.89      0.85      1925\n",
            "          22       0.95      0.85      0.89       911\n",
            "          23       0.92      0.87      0.90      6357\n",
            "          24       0.86      0.86      0.86      1931\n",
            "          25       0.96      0.96      0.96     14615\n",
            "          26       0.00      0.00      0.00        12\n",
            "          27       0.94      0.82      0.87       867\n",
            "          28       0.94      0.96      0.95      2759\n",
            "          29       0.89      0.81      0.85       293\n",
            "          30       0.90      0.90      0.90      3608\n",
            "          31       1.00      0.77      0.87        57\n",
            "          32       0.93      0.88      0.91       615\n",
            "          33       0.98      0.81      0.88        57\n",
            "          34       0.88      0.87      0.88       122\n",
            "          35       0.92      0.92      0.92      6689\n",
            "          36       0.90      0.80      0.85       274\n",
            "          37       1.00      0.91      0.95        43\n",
            "          38       0.92      0.93      0.93      1442\n",
            "          39       0.98      0.98      0.98       326\n",
            "          40       0.99      0.99      0.99       145\n",
            "          41       0.98      0.88      0.93       204\n",
            "          42       0.91      0.97      0.94       739\n",
            "          43       0.98      0.95      0.96      6143\n",
            "          44       0.94      0.95      0.95      1012\n",
            "          45       0.96      0.98      0.97      1953\n",
            "          46       0.96      0.79      0.87      1614\n",
            "          47       0.88      0.95      0.92      1870\n",
            "\n",
            "    accuracy                           0.95    127524\n",
            "   macro avg       0.92      0.87      0.88    127524\n",
            "weighted avg       0.95      0.95      0.95    127524\n",
            "\n",
            "*************************** END 1\n",
            "Latest checkpoint restored!\n",
            "499/499 [==============================] - 1934s 4s/step - loss: 0.1249 - sparse_categorical_accuracy: 0.9529\n",
            "**********EVAL************** 2\n",
            "125/125 [==============================] - 112s 898ms/step - loss: 0.1094 - sparse_categorical_accuracy: 0.9576\n",
            "[0.10941925644874573, 0.9575530886650085]\n",
            "*************************** REPORT 2\n",
            "              precision    recall  f1-score   support\n",
            "\n",
            "           0       0.99      0.93      0.96        91\n",
            "           1       0.98      0.99      0.99      4890\n",
            "           2       0.98      0.99      0.99     19510\n",
            "           3       0.88      0.88      0.88        42\n",
            "           4       1.00      0.88      0.93        40\n",
            "           5       0.97      0.99      0.98       134\n",
            "           6       0.97      0.80      0.88       237\n",
            "           7       0.97      0.94      0.95       100\n",
            "           8       0.96      0.98      0.97      5357\n",
            "           9       0.95      0.99      0.97       653\n",
            "          10       0.99      1.00      1.00      1077\n",
            "          11       0.97      0.92      0.95       487\n",
            "          12       0.90      0.93      0.92      3646\n",
            "          13       0.97      0.91      0.94        35\n",
            "          14       0.96      0.97      0.97      6890\n",
            "          15       0.98      0.98      0.98     12595\n",
            "          16       0.97      0.98      0.97      8791\n",
            "          17       0.87      0.95      0.91       299\n",
            "          18       0.97      0.91      0.94       411\n",
            "          19       0.97      0.87      0.91      3457\n",
            "          20       0.88      0.90      0.89      2198\n",
            "          21       0.92      0.87      0.89      1924\n",
            "          22       0.88      0.95      0.92       911\n",
            "          23       0.89      0.93      0.91      6356\n",
            "          24       0.86      0.92      0.89      1931\n",
            "          25       0.98      0.96      0.97     14615\n",
            "          26       1.00      0.77      0.87        13\n",
            "          27       0.92      0.85      0.89       867\n",
            "          28       0.97      0.96      0.97      2760\n",
            "          29       0.91      0.86      0.88       293\n",
            "          30       0.95      0.89      0.92      3608\n",
            "          31       0.94      0.86      0.90        57\n",
            "          32       0.89      0.92      0.90       615\n",
            "          33       0.93      0.88      0.90        57\n",
            "          34       0.94      0.97      0.95       123\n",
            "          35       0.94      0.94      0.94      6689\n",
            "          36       0.86      0.90      0.88       273\n",
            "          37       1.00      0.95      0.98        43\n",
            "          38       0.94      0.91      0.93      1442\n",
            "          39       0.98      0.97      0.98       326\n",
            "          40       0.99      0.99      0.99       145\n",
            "          41       0.94      0.98      0.96       204\n",
            "          42       0.98      0.93      0.95       739\n",
            "          43       0.98      0.97      0.97      6144\n",
            "          44       0.92      0.98      0.95      1012\n",
            "          45       0.98      0.98      0.98      1953\n",
            "          46       0.94      0.86      0.90      1614\n",
            "          47       0.93      0.94      0.93      1870\n",
            "\n",
            "    accuracy                           0.96    127524\n",
            "   macro avg       0.95      0.93      0.94    127524\n",
            "weighted avg       0.96      0.96      0.96    127524\n",
            "\n",
            "*************************** END 2\n",
            "Model: \"dcnn\"\n",
            "_________________________________________________________________\n",
            " Layer (type)                Output Shape              Param #   \n",
            "=================================================================\n",
            " embedding_1 (Embedding)     multiple                  2103168   \n",
            "                                                                 \n",
            " conv1d_3 (Conv1D)           multiple                  12850     \n",
            "                                                                 \n",
            " global_max_pooling1d_3 (Glo  multiple                 0         \n",
            " balMaxPooling1D)                                                \n",
            "                                                                 \n",
            " conv1d_4 (Conv1D)           multiple                  19250     \n",
            "                                                                 \n",
            " global_max_pooling1d_4 (Glo  multiple                 0         \n",
            " balMaxPooling1D)                                                \n",
            "                                                                 \n",
            " conv1d_5 (Conv1D)           multiple                  25650     \n",
            "                                                                 \n",
            " global_max_pooling1d_5 (Glo  multiple                 0         \n",
            " balMaxPooling1D)                                                \n",
            "                                                                 \n",
            " dense_2 (Dense)             multiple                  77312     \n",
            "                                                                 \n",
            " dropout_1 (Dropout)         multiple                  0         \n",
            "                                                                 \n",
            " dense_3 (Dense)             multiple                  24624     \n",
            "                                                                 \n",
            "=================================================================\n",
            "Total params: 2,262,854\n",
            "Trainable params: 2,262,854\n",
            "Non-trainable params: 0\n",
            "_________________________________________________________________\n"
          ]
        }
      ]
    },
    {
      "cell_type": "markdown",
      "source": [
        "# STAGE 5 Recreando el modelo a partir de pesos almacenados"
      ],
      "metadata": {
        "id": "sV32eg_RiSJq"
      }
    },
    {
      "cell_type": "code",
      "source": [
        "# Recrear una replica de la arquitectura del modelo\n",
        "new_model = get_model()\n",
        "new_model.compile(loss=\"sparse_categorical_crossentropy\",\n",
        "                  optimizer=\"adam\",\n",
        "                  metrics=[\"sparse_categorical_accuracy\"])\n"
      ],
      "metadata": {
        "id": "ZSTfLjFbgEo6"
      },
      "execution_count": null,
      "outputs": []
    },
    {
      "cell_type": "code",
      "source": [
        "# Cargar los pesos previamente aprendidos en los nodos de la nueva instancia\n",
        "new_model.load_weights(weights_path)"
      ],
      "metadata": {
        "colab": {
          "base_uri": "https://localhost:8080/"
        },
        "id": "VNgufDowgGCM",
        "outputId": "77e3e9d2-4cb0-43e9-b0d5-0855412b7a9d"
      },
      "execution_count": null,
      "outputs": [
        {
          "output_type": "execute_result",
          "data": {
            "text/plain": [
              "<tensorflow.python.training.tracking.util.CheckpointLoadStatus at 0x7f3957f824d0>"
            ]
          },
          "metadata": {},
          "execution_count": 28
        }
      ]
    },
    {
      "cell_type": "code",
      "source": [
        "# Usar el modelo\n",
        "new_model(np.array([subpal_encoder.encode(\"Por este medio solicito la instalación de alarmas vecinales en mi casa\")]), training=False).numpy()"
      ],
      "metadata": {
        "colab": {
          "base_uri": "https://localhost:8080/"
        },
        "id": "L5uN20AlgKLa",
        "outputId": "376fd14c-fafc-427e-a2f8-8a5b39175117"
      },
      "execution_count": null,
      "outputs": [
        {
          "output_type": "execute_result",
          "data": {
            "text/plain": [
              "array([[5.5184555e-01, 3.6463043e-01, 1.5454214e-03, 1.0690344e-03,\n",
              "        1.0986467e-03, 9.3017687e-04, 8.4747380e-04, 3.9359435e-04,\n",
              "        4.8012752e-03, 6.0518412e-04, 1.9876093e-04, 1.5480639e-03,\n",
              "        4.9481858e-03, 1.2771456e-03, 1.1096508e-03, 2.9344889e-03,\n",
              "        9.0523070e-04, 1.4495008e-03, 1.8609934e-03, 8.2851102e-04,\n",
              "        8.4709324e-04, 5.1028170e-03, 6.2962872e-04, 3.0993375e-03,\n",
              "        6.6172751e-04, 1.2933300e-03, 1.7189772e-03, 9.0633210e-04,\n",
              "        1.6386351e-03, 5.9824815e-04, 9.2103810e-04, 1.9714977e-03,\n",
              "        8.8382897e-04, 3.1136291e-03, 1.3611001e-04, 1.4865921e-02,\n",
              "        3.4664455e-04, 7.5237773e-04, 5.5049337e-03, 4.9789327e-05,\n",
              "        7.3750009e-05, 1.7406810e-04, 5.4714049e-04, 1.3213829e-03,\n",
              "        3.2000945e-04, 2.3797782e-04, 7.2054681e-03, 2.5106801e-04]],\n",
              "      dtype=float32)"
            ]
          },
          "metadata": {},
          "execution_count": 29
        }
      ]
    }
  ]
}